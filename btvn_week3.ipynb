{
 "cells": [
  {
   "cell_type": "code",
   "execution_count": 4,
   "metadata": {},
   "outputs": [
    {
     "data": {
      "text/plain": [
       "True"
      ]
     },
     "execution_count": 4,
     "metadata": {},
     "output_type": "execute_result"
    }
   ],
   "source": [
    "# Bài tập em tham khảo từ nguồn và có thực hiện code lại theo mẫu\n",
    "# Link: https://theailearner.com/2019/04/10/histogram-matching-specification/?fbclid=IwAR2vB9NOneK823h4KIeSsHbwcH7tirnKDjAuluVFWIASkV9AbBoiDpr5vgs\n",
    "\n",
    "import cv2\n",
    "import numpy as np\n",
    "\n",
    "# Hàm ánh xạ\n",
    "def find_nearest_greater(my_array, target):\n",
    "    diff = my_array - target\n",
    "    mask = np.ma.less_equal(diff, -1)\n",
    "    # Mask giá trị nghịch đảo\n",
    "    if np.all(mask):\n",
    "        result = np.abs(diff).argmin()\n",
    "        return result \n",
    "    # trả lại vị trí gần nhất mà target lớn hơn giá trị của nó\n",
    "    masked_diff = np.ma.masked_array(diff, mask)\n",
    "    return masked_diff.argmin()\n",
    "\n",
    "# Hàm matching\n",
    "def histogram_matching(source, template):\n",
    "\n",
    "    source_copy = source.shape\n",
    "    source = source.ravel()\n",
    "    template = template.ravel()\n",
    "\n",
    "    # get the set of unique pixel values and their corresponding indices and counts\n",
    "    s_values, fixed_num, s_counts = np.unique(source, return_inverse=True,return_counts=True)\n",
    "    t_values, t_counts = np.unique(template, return_counts=True)\n",
    "\n",
    "    # Tính s(k) cho source\n",
    "    s_quantiles = np.cumsum(s_counts).astype(np.float64)\n",
    "    s_quantiles /= s_quantiles[-1]\n",
    "    \n",
    "    # Tính s(k) cho template\n",
    "    t_quantiles = np.cumsum(t_counts).astype(np.float64)\n",
    "    t_quantiles /= t_quantiles[-1]\n",
    "\n",
    "    # Làm tròn giá trị\n",
    "    sour = np.around(s_quantiles*255)\n",
    "    temp = np.around(t_quantiles*255)\n",
    "    \n",
    "    # Ánh xạ và làm tròn các giá trị\n",
    "    temp_arr=[]\n",
    "    for data in sour[:]:\n",
    "        temp_arr.append(find_nearest_greater(temp,data))\n",
    "    temp_arr= np.array(temp_arr,dtype='uint8')\n",
    "\n",
    "    return temp_arr[fixed_num].reshape(source_copy)\n",
    " \n",
    "# Tải ảnh vào dưới dạng gray scale\n",
    "source = cv2.imread('moto.jpg',0)\n",
    "template = cv2.imread('window.jpg',0)\n",
    " \n",
    "# Thực hiện Histogram Matching\n",
    "result = histogram_matching(source, template)\n",
    " \n",
    "# Lưu hình ảnh đã matching lại\n",
    "cv2.imwrite('after_matching.jpg',np.array(result,dtype='uint8'))"
   ]
  }
 ],
 "metadata": {
  "kernelspec": {
   "display_name": "Python 3",
   "language": "python",
   "name": "python3"
  },
  "language_info": {
   "codemirror_mode": {
    "name": "ipython",
    "version": 3
   },
   "file_extension": ".py",
   "mimetype": "text/x-python",
   "name": "python",
   "nbconvert_exporter": "python",
   "pygments_lexer": "ipython3",
   "version": "3.5.3"
  }
 },
 "nbformat": 4,
 "nbformat_minor": 2
}
